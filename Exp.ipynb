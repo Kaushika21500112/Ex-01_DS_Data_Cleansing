{
 "cells": [
  {
   "cell_type": "code",
   "execution_count": 7,
   "id": "9e7af703",
   "metadata": {},
   "outputs": [
    {
     "name": "stdout",
     "output_type": "stream",
     "text": [
      "Checking For Null values:\n",
      "show_name                   4\n",
      "country                     0\n",
      "num_episodes                0\n",
      "aired_on                    1\n",
      "original_network            1\n",
      "rating                      4\n",
      "current_overall_rank        3\n",
      "lifetime_popularity_rank    0\n",
      "watchers                    3\n",
      "dtype: int64\n",
      "\n",
      "Checking for Null after cleaning data:\n",
      "show_name                   0\n",
      "country                     0\n",
      "num_episodes                0\n",
      "aired_on                    0\n",
      "original_network            0\n",
      "rating                      0\n",
      "current_overall_rank        0\n",
      "lifetime_popularity_rank    0\n",
      "watchers                    0\n",
      "dtype: int64\n"
     ]
    }
   ],
   "source": [
    "import pandas as pd\n",
    "df=pd.read_csv('Data_set.csv')\n",
    "print(\"Checking For Null values:\")\n",
    "print(df.isnull().sum())\n",
    "df['show_name']=df['show_name'].fillna(df['show_name'].mode()[0])\n",
    "df['aired_on']=df['aired_on'].fillna(df['aired_on'].mode()[0])\n",
    "df['original_network']=df['original_network'].fillna(df['original_network'].mode()[0])\n",
    "df['rating']=df['rating'].fillna(df['rating'].mean())\n",
    "df['current_overall_rank']=df['current_overall_rank'].fillna(df['current_overall_rank'].median())\n",
    "df['watchers']=df['watchers'].fillna(df['watchers'].median())\n",
    "print()\n",
    "print(\"Checking for Null after cleaning data:\")\n",
    "print(df.isnull().sum())\n",
    "df.to_csv('Data_set.csv', index=False)"
   ]
  }
 ],
 "metadata": {
  "kernelspec": {
   "display_name": "Python 3",
   "language": "python",
   "name": "python3"
  },
  "language_info": {
   "codemirror_mode": {
    "name": "ipython",
    "version": 3
   },
   "file_extension": ".py",
   "mimetype": "text/x-python",
   "name": "python",
   "nbconvert_exporter": "python",
   "pygments_lexer": "ipython3",
   "version": "3.8.8"
  }
 },
 "nbformat": 4,
 "nbformat_minor": 5
}
